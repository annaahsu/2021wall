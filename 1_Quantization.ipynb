{
  "cells": [
    {
      "cell_type": "markdown",
      "metadata": {
        "id": "view-in-github",
        "colab_type": "text"
      },
      "source": [
        "<a href=\"https://colab.research.google.com/github/annaahsu/2021wall/blob/main/1_Quantization.ipynb\" target=\"_parent\"><img src=\"https://colab.research.google.com/assets/colab-badge.svg\" alt=\"Open In Colab\"/></a>"
      ]
    },
    {
      "cell_type": "markdown",
      "metadata": {
        "id": "nc3kdYUUlfGP"
      },
      "source": [
        "# EE 599 HW 5 Part 1: Quantization\n",
        "\n",
        "Your task in this Colab notebook is to fill out the sections that are specified by **TODO** (please search the keyword `TODO` to make sure you do not miss any).\n",
        "\n",
        "Prerequisites: set the runtime type to GPU. (Runtime -> Change Runtime Type)"
      ]
    },
    {
      "cell_type": "markdown",
      "metadata": {
        "id": "zTvIwDlYvBzC"
      },
      "source": [
        "## Initial Setup\n",
        "\n",
        "This section imports all required packages from PyTorch."
      ]
    },
    {
      "cell_type": "code",
      "execution_count": 1,
      "metadata": {
        "id": "hbiiMcdNJI--"
      },
      "outputs": [],
      "source": [
        "import numpy as np\n",
        "import matplotlib.pyplot as plt\n",
        "\n",
        "import torch\n",
        "import torchvision\n",
        "import torchvision.transforms as transforms\n",
        "import torch.nn as nn\n",
        "import torch.nn.functional as F\n",
        "import torch.optim as optim\n",
        "from torch.utils.data import DataLoader"
      ]
    },
    {
      "cell_type": "markdown",
      "metadata": {
        "id": "FG3WW1Owq1Fh"
      },
      "source": [
        "Verify that GPU is availble to use."
      ]
    },
    {
      "cell_type": "code",
      "execution_count": 2,
      "metadata": {
        "id": "A3RF5VmcoUMG"
      },
      "outputs": [],
      "source": [
        "if torch.cuda.is_available():\n",
        "    device = torch.device('cuda')\n",
        "else:\n",
        "    device = torch.device('cpu')"
      ]
    },
    {
      "cell_type": "markdown",
      "metadata": {
        "id": "nCaMDWYArEXO"
      },
      "source": [
        "## Create CNN\n",
        "\n",
        "Note: This section is similar to HW2.\n",
        "\n",
        "Prepare CIFAR10 dataset."
      ]
    },
    {
      "cell_type": "code",
      "execution_count": 3,
      "metadata": {
        "colab": {
          "base_uri": "https://localhost:8080/"
        },
        "id": "_5UuOjjrnogR",
        "outputId": "49fea531-3fd2-46da-f6bd-1f5cd9871465"
      },
      "outputs": [
        {
          "output_type": "stream",
          "name": "stderr",
          "text": [
            "100%|██████████| 170M/170M [00:03<00:00, 48.9MB/s]\n"
          ]
        }
      ],
      "source": [
        "# Set the batch size for data processing\n",
        "batch_size = 4\n",
        "\n",
        "# Define the mean values and standard deviation values for normalization\n",
        "mean_values = (0.5, 0.5, 0.5)  # Mean values for red, green, and blue channels\n",
        "std_values = (0.5, 0.5, 0.5)   # Standard deviation values for red, green, and blue channels\n",
        "\n",
        "# Define the transformation pipeline\n",
        "transform = transforms.Compose([\n",
        "    transforms.ToTensor(),                  # Convert images to tensors\n",
        "    transforms.Normalize(mean_values, std_values)  # Normalize tensor values\n",
        "])\n",
        "\n",
        "# Load the CIFAR10 training dataset and apply the defined transformations\n",
        "trainset = torchvision.datasets.CIFAR10(root=\"./\", train=True,\n",
        "                                        download=True, transform=transform)\n",
        "\n",
        "# Create a DataLoader to efficiently load and process training data in batches\n",
        "trainloader = torch.utils.data.DataLoader(trainset, batch_size=batch_size,\n",
        "                                          shuffle=True, num_workers=2)\n",
        "\n",
        "# Load the CIFAR10 test dataset and apply the same transformations as for training\n",
        "testset = torchvision.datasets.CIFAR10(root=\"./\", train=False,\n",
        "                                       download=True, transform=transform)\n",
        "\n",
        "# Create a DataLoader for test data\n",
        "testloader = torch.utils.data.DataLoader(testset, batch_size=batch_size,\n",
        "                                         shuffle=False, num_workers=2)\n",
        "\n",
        "classes = ('plane', 'car', 'bird', 'cat',\n",
        "           'deer', 'dog', 'frog', 'horse', 'ship', 'truck')"
      ]
    },
    {
      "cell_type": "markdown",
      "metadata": {
        "id": "l62CkyIwtSOv"
      },
      "source": [
        "Define a simple CNN that classifies CIFAR images."
      ]
    },
    {
      "cell_type": "code",
      "execution_count": 4,
      "metadata": {
        "id": "9fL3F-7Rntog"
      },
      "outputs": [],
      "source": [
        "class Net(nn.Module):\n",
        "    def __init__(self):\n",
        "        super(Net, self).__init__()\n",
        "\n",
        "        # Define the layers of the neural network architecture\n",
        "\n",
        "        # First convolutional layer: 3 input channels, 6 output channels, kernel size 5x5\n",
        "        self.conv1 = nn.Conv2d(3, 6, 5, bias=False)\n",
        "\n",
        "        # Max pooling layer with kernel size 2x2 and stride 2\n",
        "        self.pool = nn.MaxPool2d(2, 2)\n",
        "\n",
        "        # Second convolutional layer: 6 input channels, 16 output channels, kernel size 5x5\n",
        "        self.conv2 = nn.Conv2d(6, 16, 5, bias=False)\n",
        "\n",
        "        # Fully connected (dense) layers\n",
        "\n",
        "        # First fully connected layer: 16*5*5 input features, 120 output features\n",
        "        self.fc1 = nn.Linear(16 * 5 * 5, 120, bias=False)\n",
        "\n",
        "        # Second fully connected layer: 120 input features, 84 output features\n",
        "        self.fc2 = nn.Linear(120, 84, bias=False)\n",
        "\n",
        "        # Third fully connected layer: 84 input features, 10 output features (for classification)\n",
        "        self.fc3 = nn.Linear(84, 10, bias=False)\n",
        "\n",
        "    def forward(self, x: torch.Tensor) -> torch.Tensor:\n",
        "        # Forward pass through the neural network\n",
        "\n",
        "        # Apply first convolutional layer, followed by ReLU activation and max pooling\n",
        "        x = self.pool(F.relu(self.conv1(x)))\n",
        "\n",
        "        # Apply second convolutional layer, followed by ReLU activation and max pooling\n",
        "        x = self.pool(F.relu(self.conv2(x)))\n",
        "\n",
        "        # The output from the convolutional and pooling layers is in the form of a\n",
        "        # 3D tensor (height, width, depth or channels).\n",
        "        # To feed this tensor into a fully connected layer,\n",
        "        # it needs to be flattened into a 1D tensor.\n",
        "        # Reshape tensor for fully connected layers\n",
        "        # A2D tensor with a shape of [batch_size, 16 * 5 * 5].\n",
        "        x = x.view(-1, 16 * 5 * 5)\n",
        "\n",
        "        # Apply first fully connected layer, followed by ReLU activation\n",
        "        x = F.relu(self.fc1(x))\n",
        "\n",
        "        # Apply second fully connected layer, followed by ReLU activation\n",
        "        x = F.relu(self.fc2(x))\n",
        "\n",
        "        # Apply third fully connected layer (output layer)\n",
        "        x = self.fc3(x)\n",
        "\n",
        "        return x\n",
        "\n",
        "# Create an instance of the neural network and move it to the specified device (e.g., GPU)\n",
        "net = Net().to(device)"
      ]
    },
    {
      "cell_type": "markdown",
      "metadata": {
        "id": "Nijieuxptag6"
      },
      "source": [
        "Train this CNN on the training dataset (this may take a few moments)."
      ]
    },
    {
      "cell_type": "code",
      "execution_count": 5,
      "metadata": {
        "id": "CzK6ohj5oNCT"
      },
      "outputs": [],
      "source": [
        "def train(model: nn.Module, dataloader: DataLoader, epoch_num: int):\n",
        "    # Define the loss criterion and optimizer\n",
        "    criterion = nn.CrossEntropyLoss()  # Cross-entropy loss for classification\n",
        "    optimizer = optim.SGD(model.parameters(), lr=0.001, momentum=0.9)  # SGD optimizer with momentum\n",
        "\n",
        "    for epoch in range(epoch_num):  # Loop over the dataset for multiple epochs\n",
        "        running_loss = 0.0\n",
        "\n",
        "        # Iterate over mini-batches of data\n",
        "        for i, data in enumerate(dataloader, 0):\n",
        "            # Get the inputs; data is a list of [inputs, labels]\n",
        "            inputs, labels = data\n",
        "\n",
        "            inputs = inputs.to(device)  # Move inputs to the specified device\n",
        "            labels = labels.to(device)  # Move labels to the specified device\n",
        "\n",
        "            # Zero the gradients in the optimizer\n",
        "            optimizer.zero_grad()\n",
        "\n",
        "            # Forward pass + backward pass (backpropagation) + optimization\n",
        "            outputs = model(inputs)  # Forward pass through the model\n",
        "            loss = criterion(outputs, labels)  # Calculate the loss\n",
        "            loss.backward()  # Compute gradients\n",
        "            optimizer.step()  # Update model parameters\n",
        "\n",
        "            # Print statistics\n",
        "            running_loss += loss.item()\n",
        "            if i % 2000 == 1999:  # Print every 2000 mini-batches\n",
        "                print('[%d, %5d] loss: %.3f' %\n",
        "                    (epoch + 1, i + 1, running_loss / 2000))\n",
        "                running_loss = 0.0\n",
        "\n",
        "    print('Finished Training')  # Training loop is complete"
      ]
    },
    {
      "cell_type": "code",
      "execution_count": 6,
      "metadata": {
        "colab": {
          "base_uri": "https://localhost:8080/"
        },
        "id": "HixhBHaqtmZU",
        "outputId": "278b2a4d-193a-4678-fc0f-d08d88068d0b"
      },
      "outputs": [
        {
          "output_type": "stream",
          "name": "stdout",
          "text": [
            "[1,  2000] loss: 2.262\n",
            "[1,  4000] loss: 1.919\n",
            "[1,  6000] loss: 1.716\n",
            "[1,  8000] loss: 1.630\n",
            "[1, 10000] loss: 1.566\n",
            "[1, 12000] loss: 1.531\n",
            "[2,  2000] loss: 1.472\n",
            "[2,  4000] loss: 1.434\n",
            "[2,  6000] loss: 1.414\n",
            "[2,  8000] loss: 1.375\n",
            "[2, 10000] loss: 1.352\n",
            "[2, 12000] loss: 1.335\n",
            "Finished Training\n"
          ]
        }
      ],
      "source": [
        "train(net, trainloader, 2)"
      ]
    },
    {
      "cell_type": "markdown",
      "metadata": {
        "id": "vW3U7pourwjT"
      },
      "source": [
        "Let us look at how the network performs on the test dataset."
      ]
    },
    {
      "cell_type": "code",
      "execution_count": 7,
      "metadata": {
        "colab": {
          "base_uri": "https://localhost:8080/"
        },
        "id": "y27_n-djuEdz",
        "outputId": "847d5d8d-1a00-471a-ee44-5c290290ac55"
      },
      "outputs": [
        {
          "output_type": "stream",
          "name": "stdout",
          "text": [
            "Accuracy of the network on the test images: 50.55%\n"
          ]
        }
      ],
      "source": [
        "# A function to evaluate the performance of a given neural network model\n",
        "# using a test dataset.\n",
        "# It calculates the accuracy of the model's predictions on the test data.\n",
        "def calculate_accuracy(model: nn.Module, dataloader: DataLoader, max_samples=None) -> float:\n",
        "    correct_predictions = 0  # Initialize the count of correctly predicted samples\n",
        "    total_samples = 0    # Initialize the count of total samples\n",
        "    inference_count = 0  # Initialize the count of inferences made\n",
        "\n",
        "    with torch.no_grad():  # Disable gradient calculation for inference\n",
        "        for batch_data in dataloader:\n",
        "            images, labels = batch_data  # Separate images and labels from the batch\n",
        "\n",
        "            images = images.to(device)  # Move images to the specified device\n",
        "            labels = labels.to(device)  # Move labels to the specified device\n",
        "\n",
        "            outputs = model(images)  # Forward pass to get model predictions\n",
        "            _, predicted = torch.max(outputs.data, 1)  # Get predicted class indices\n",
        "\n",
        "            total_samples += labels.size(0)  # Increment the total count of samples\n",
        "            correct_predictions += (predicted == labels).sum().item()  # Count correct predictions\n",
        "\n",
        "            if max_samples:  # Check if a maximum number of samples for testing is specified\n",
        "                inference_count += images.shape[0]  # Increment the count of inferences made\n",
        "                if inference_count > max_samples:  # Stop testing if maximum samples reached\n",
        "                    break\n",
        "\n",
        "    accuracy = 100 * correct_predictions / total_samples  # Calculate the accuracy as a percentage\n",
        "    return accuracy\n",
        "\n",
        "score = calculate_accuracy(net, testloader)\n",
        "print('Accuracy of the network on the test images: {}%'.format(score))"
      ]
    },
    {
      "cell_type": "markdown",
      "metadata": {
        "id": "SQZoEjBSveV8"
      },
      "source": [
        "## Visualize Weights\n",
        "\n",
        "Take each layer of our network and plot the historgram of its parameters."
      ]
    },
    {
      "cell_type": "code",
      "execution_count": 8,
      "metadata": {
        "id": "PoySOC4WDk5F",
        "colab": {
          "base_uri": "https://localhost:8080/",
          "height": 1000
        },
        "outputId": "0e4b704e-ae89-4a8a-8a20-8894d52083a3"
      },
      "outputs": [
        {
          "output_type": "display_data",
          "data": {
            "text/plain": [
              "<Figure size 500x400 with 1 Axes>"
            ],
            "image/png": "[encoded data removed]"
          },
          "metadata": {}
        },
        {
          "output_type": "display_data",
          "data": {
            "text/plain": [
              "<Figure size 500x400 with 1 Axes>"
            ],
            "image/png": "[encoded data removed]"
          },
          "metadata": {}
        },
        {
          "output_type": "display_data",
          "data": {
            "text/plain": [
              "<Figure size 500x400 with 1 Axes>"
            ],
            "image/png": "[encoded data removed]"
          },
          "metadata": {}
        },
        {
          "output_type": "display_data",
          "data": {
            "text/plain": [
              "<Figure size 500x400 with 1 Axes>"
            ],
            "image/png": "[encoded data removed]"
          },
          "metadata": {}
        },
        {
          "output_type": "display_data",
          "data": {
            "text/plain": [
              "<Figure size 500x400 with 1 Axes>"
            ],
            "image/png": "[encoded data removed]"
          },
          "metadata": {}
        }
      ],
      "source": [
        "def analyze_layer_weights(layer_name: str, weight: torch.Tensor):\n",
        "    # Extract and flatten the weights of the given layer\n",
        "    layer_weights = weight.data.cpu().view(-1)\n",
        "\n",
        "    plt.figure(figsize=(5, 4))\n",
        "\n",
        "    # Plot a histogram of the flattened layer weights\n",
        "    plt.hist(layer_weights, density=True, bins=50)\n",
        "    plt.title(f\"{layer_name} Weights Histogram\")\n",
        "    plt.xlabel(\"Weight Value\")\n",
        "    plt.ylabel(\"Density\")\n",
        "\n",
        "    # Calculate the upper and lower bounds of the range within 3 standard deviations\n",
        "    layer_weights_3sigma_max = (layer_weights.mean() + 3 * layer_weights.std()).item()\n",
        "    layer_weights_3sigma_min = (layer_weights.mean() - 3 * layer_weights.std()).item()\n",
        "\n",
        "    # Calculate the range of weights and the 3-sigma range for the layer\n",
        "    weight_range = layer_weights.max() - layer_weights.min()\n",
        "    sigma_range = layer_weights_3sigma_max - layer_weights_3sigma_min\n",
        "\n",
        "    # Print weight range and 3-sigma range at the top right corner\n",
        "    plt.text(0.98, 0.95, f'Weight Range: {weight_range.item():.4f}\\n3-Sigma Range: {sigma_range:.4f}',\n",
        "             horizontalalignment='right', verticalalignment='top',\n",
        "             transform=plt.gca().transAxes, bbox=dict(facecolor='white', alpha=0.5))\n",
        "\n",
        "    plt.show()\n",
        "\n",
        "weight_data = [\n",
        "    (\"Conv1\", net.conv1.weight),\n",
        "    (\"Conv2\", net.conv2.weight),\n",
        "    (\"FC1\", net.fc1.weight),\n",
        "    (\"FC2\", net.fc2.weight),\n",
        "    (\"FC3\", net.fc3.weight)\n",
        "]\n",
        "\n",
        "for name, weight in weight_data:\n",
        "    analyze_layer_weights(name, weight)"
      ]
    },
    {
      "cell_type": "markdown",
      "metadata": {
        "id": "A-bWVpMrQEjf"
      },
      "source": [
        "### **TODO 1:**\n",
        "Based on the plots shown above, does the 3-sigma range closely align with the overall range of the weights?"
      ]
    },
    {
      "cell_type": "markdown",
      "metadata": {
        "id": "oX1uQ9YfQEjf"
      },
      "source": [
        "Your answer: The 3-sigma range is usually pretty close with the overall range of the weights, since it's supposed to cover 99% of the range. Obviously, because of this, the 3-sigma range is smaller, which is accurately shown in the plots."
      ]
    },
    {
      "cell_type": "markdown",
      "metadata": {
        "id": "GNb1bvuNdfST"
      },
      "source": [
        "## Quantizing Weights\n",
        "\n",
        "Remember that for matrix multiplication, we had:\n",
        "\n",
        "$$\\mathbf{y} = \\mathbf{W}\\mathbf{x}$$\n",
        "\n",
        "If we only quantize weights, we would have the following:\n",
        "\n",
        "$$\\mathbf{y} = \\mathbf{W^q}\\mathbf{x}$$\n",
        "\n",
        "In this section, we only quantize the weights and measure the accuracy."
      ]
    },
    {
      "cell_type": "markdown",
      "metadata": {
        "id": "23ouULZdDQjP"
      },
      "source": [
        "## Deep copy the model\n",
        "\n",
        "Take a look at the following function called `copy_model`, which is designed to create a deep copy of a model. This is particularly useful when we intend to modify the model multiple times and wish to preserve the original model without alterations."
      ]
    },
    {
      "cell_type": "code",
      "execution_count": 9,
      "metadata": {
        "id": "HA3Sp-j8QEjf"
      },
      "outputs": [],
      "source": [
        "from copy import deepcopy\n",
        "\n",
        "def copy_model(model: nn.Module) -> nn.Module:\n",
        "    result = deepcopy(model)\n",
        "\n",
        "    # Copy over the extra metadata we've collected which copy.deepcopy doesn't capture\n",
        "    if hasattr(model, 'input_activations'):\n",
        "        result.input_activations = deepcopy(model.input_activations)\n",
        "\n",
        "    for result_layer, original_layer in zip(result.children(), model.children()):\n",
        "        if isinstance(result_layer, nn.Conv2d) or isinstance(result_layer, nn.Linear):\n",
        "            if hasattr(original_layer.weight, 'scale'):\n",
        "                result_layer.weight.scale = deepcopy(original_layer.weight.scale)\n",
        "            if hasattr(original_layer, 'activations'):\n",
        "                result_layer.activations = deepcopy(original_layer.activations)\n",
        "            if hasattr(original_layer, 'output_scale'):\n",
        "                result_layer.output_scale = deepcopy(original_layer.output_scale)\n",
        "\n",
        "    return result\n",
        "\n",
        "net_quan_w = copy_model(net)"
      ]
    },
    {
      "cell_type": "markdown",
      "metadata": {
        "id": "LygbqE5tEC_V"
      },
      "source": [
        "### **TODO 2:**\n",
        "\n",
        "Complete the following function, `quantized_weights` to quantize the weights.\n",
        "This function should quantize the weights to 8-bit integers."
      ]
    },
    {
      "cell_type": "code",
      "execution_count": 10,
      "metadata": {
        "id": "gvuEOeZFF_lz"
      },
      "outputs": [],
      "source": [
        "import torch\n",
        "from typing import Tuple\n",
        "\n",
        "def quantized_weights(weights: torch.Tensor) -> Tuple[torch.Tensor, float]:\n",
        "    '''\n",
        "    Quantize the weights so that all values are integers between -128 and 127.\n",
        "    Use the 3-sigma range for determining the scaling factor.\n",
        "\n",
        "    Parameters:\n",
        "    weights (Tensor): The unquantized weights\n",
        "\n",
        "    Returns:\n",
        "    (Tensor, float): A tuple with the following elements:\n",
        "                        * The weights in quantized form, where every value is an integer between -128 and 127.\n",
        "                          The \"dtype\" will still be \"float\", but the values themselves should all be integers.\n",
        "                        * The scaling factor that your weights were multiplied by.\n",
        "                          This value does not need to be an 8-bit integer.\n",
        "    '''\n",
        "\n",
        "    # TODO: Add your code here.\n",
        "    sigma = torch.std(weights)\n",
        "    scale = (6 * sigma) / (pow(2, 8) - 1)\n",
        "    quantized = torch.clamp(torch.round(weights / scale), -128, 127)\n",
        "\n",
        "    return quantized, scale"
      ]
    },
    {
      "cell_type": "markdown",
      "metadata": {
        "id": "Bnm8t5yPQEjg"
      },
      "source": [
        "We iterates through the each layer of the model and quantize its parameters."
      ]
    },
    {
      "cell_type": "code",
      "execution_count": 11,
      "metadata": {
        "id": "FO8TMLwvGEst"
      },
      "outputs": [],
      "source": [
        "def quantize_layer_weights(model: nn.Module):\n",
        "    '''\n",
        "    Quantizes the weights of Conv2d and Linear layers in a given PyTorch model.\n",
        "\n",
        "    The function iterates through the children layers of the input model.\n",
        "    For each Conv2d or Linear layer, it quantizes the weights to ensure\n",
        "    that every value is an integer between -128 and 127. The scaling factor\n",
        "    used for quantization is also stored as an attribute of the layer.\n",
        "\n",
        "    Parameters:\n",
        "    - model (nn.Module): The input PyTorch model whose weights need to be quantized.\n",
        "\n",
        "    Raises:\n",
        "    - Exception: If any quantized weight is out of the range [-128, 127].\n",
        "    - Exception: If any quantized weight is not an integer.\n",
        "    '''\n",
        "\n",
        "    # Iterate through the children layers of the model\n",
        "    for layer in model.children():\n",
        "\n",
        "        # Check if the layer is a Conv2d or Linear layer\n",
        "        if isinstance(layer, nn.Conv2d) or isinstance(layer, nn.Linear):\n",
        "\n",
        "            # Quantize the weights of the layer using the provided quantized_weights function\n",
        "            q_layer_data, scale = quantized_weights(layer.weight.data)\n",
        "\n",
        "            # Move the quantized weights to the same device as the original data\n",
        "            q_layer_data = q_layer_data.to(device)\n",
        "\n",
        "            # Replace the original weights with the quantized weights\n",
        "            layer.weight.data = q_layer_data\n",
        "\n",
        "            # Store the scaling factor used for quantization as an attribute of the layer\n",
        "            layer.weight.scale = scale\n",
        "\n",
        "            # Check if any quantized weight is outside the range [-128, 127]\n",
        "            if (q_layer_data < -128).any() or (q_layer_data > 127).any():\n",
        "                raise Exception(\"Quantized weights of {} layer include values out of bounds for an 8-bit signed integer\".format(layer.__class__.__name__))\n",
        "\n",
        "            # Check if any quantized weight is not an integer\n",
        "            if (q_layer_data != q_layer_data.round()).any():\n",
        "                raise Exception(\"Quantized weights of {} layer include non-integer values\".format(layer.__class__.__name__))\n",
        "\n",
        "\n",
        "quantize_layer_weights(net_quan_w)"
      ]
    },
    {
      "cell_type": "markdown",
      "metadata": {
        "id": "p09sLRgPHDWd"
      },
      "source": [
        "Calculate the accuracy"
      ]
    },
    {
      "cell_type": "code",
      "execution_count": 12,
      "metadata": {
        "colab": {
          "base_uri": "https://localhost:8080/"
        },
        "id": "wa2vNcEYHKet",
        "outputId": "01f7497b-f5a1-4767-905b-cf6c03a72cec"
      },
      "outputs": [
        {
          "output_type": "stream",
          "name": "stdout",
          "text": [
            "Accuracy of the weight quantized model on the test images: 50.47%\n"
          ]
        }
      ],
      "source": [
        "score = calculate_accuracy(net_quan_w, testloader)\n",
        "print('Accuracy of the weight quantized model on the test images: {}%'.format(score))"
      ]
    },
    {
      "cell_type": "markdown",
      "metadata": {
        "id": "S0Zgqo7bL6Se"
      },
      "source": [
        "## Visualize Activations\n",
        "\n",
        "In PyTorch, a hook offers a way for users to inspect or adjust the model's internal computations without altering its original structure. The two primary types of hooks are:\n",
        "\n",
        "1. Forward Hooks:\n",
        "Used during the forward computational pass to access or adjust layer inputs/outputs.\n",
        "\n",
        "2. Backward Hooks:\n",
        "Engaged during the backward pass (during gradient computations) to access or modify gradients.\n",
        "\n",
        "How to Use Hooks:\n",
        "* Register the hook on a specific module using:\n",
        "* `register_forward_hook` for forward hooks.\n",
        "* `register_backward_hook` for backward hooks.\n",
        "* The associated callback function will be triggered when the module processes data.\n",
        "* Hooks serve as a potent tool in PyTorch, invaluable for tasks like debugging, visualization, and tailoring model behavior.\n",
        "\n",
        "We use these hooks to store the activations in the network."
      ]
    },
    {
      "cell_type": "code",
      "execution_count": null,
      "metadata": {
        "id": "2xO-aNz3IMUg"
      },
      "outputs": [],
      "source": [
        "def append_activations(target_array, x):\n",
        "    \"\"\"\n",
        "    Retrieve the activations from the first sample in the current batch (x[0]),\n",
        "    transfer them to the CPU, and flatten the multi-dimensional tensor into a 1D array.\n",
        "    Then, append this flattened array to the given target numpy array, which collects\n",
        "    the activations for further analysis or storage.\n",
        "\n",
        "    Parameters:\n",
        "    - target_array: Existing numpy array where activations will be appended.\n",
        "    - x: The PyTorch tensor representing the batch of activations.\n",
        "\n",
        "    Returns:\n",
        "    - Numpy array with the new activations appended.\n",
        "    \"\"\"\n",
        "    return np.append(target_array, x[0].cpu().view(-1))\n",
        "\n",
        "\n",
        "def register_activation_profiling_hooks(model: Net):\n",
        "    \"\"\"\n",
        "    Registers hooks on specified layers of a given PyTorch model to profile and\n",
        "    collect activations during the forward pass. These activations are stored\n",
        "    directly on the layers as numpy arrays, facilitating tasks like analysis or debugging.\n",
        "\n",
        "    The function sets an 'activations' attribute on each layer, which gets populated\n",
        "    with activations as the model processes data.\n",
        "\n",
        "    Parameters:\n",
        "    - model (Net): The PyTorch model on which hooks are to be registered.\n",
        "    \"\"\"\n",
        "\n",
        "    # List of layers to register hooks on\n",
        "    layers = [model.conv1, model.conv2, model.fc1, model.fc2, model.fc3]\n",
        "\n",
        "\n",
        "    # Register the input_hook to conv1.\n",
        "    def input_hook(conv1_layer, x):\n",
        "      \"\"\"Special hook for input activations, which are captured before conv1\"\"\"\n",
        "      model.input_activations = append_activations(model.input_activations, x)\n",
        "\n",
        "    model.input_activations = np.empty(0)\n",
        "\n",
        "    # The hook will be called every time before forward is invoked.\n",
        "    model.conv1.register_forward_pre_hook(input_hook)\n",
        "\n",
        "    # Register the hook for the output of each later.\n",
        "    def generic_hook(layer, x, y):\n",
        "      \"\"\"\n",
        "      A generic hook function designed to be registered with PyTorch layers.\n",
        "      During the forward pass, it captures the activations from the input tensor,\n",
        "      flattens them, and appends them to the layer's 'activations' attribute.\n",
        "\n",
        "      Parameters:\n",
        "      - layer: The PyTorch layer with which this hook is associated.\n",
        "      - x: Input tensor to the layer.\n",
        "      - y: Output tensor from the layer.\n",
        "      \"\"\"\n",
        "      layer.activations = append_activations(layer.activations, y)\n",
        "\n",
        "\n",
        "    for layer in layers:\n",
        "        # Initialize an empty numpy array to store activations for each layer\n",
        "        layer.activations = np.empty(0)\n",
        "\n",
        "        # Register the generic hook for each layer\n",
        "        layer.register_forward_hook(generic_hook)"
      ]
    },
    {
      "cell_type": "markdown",
      "metadata": {
        "id": "vLx9SUtwQEjg"
      },
      "source": [
        "Register activation profiling hooks and profile the input and output activations by running the model on test dataset again."
      ]
    },
    {
      "cell_type": "code",
      "execution_count": null,
      "metadata": {
        "id": "TF82ncF1IdRY"
      },
      "outputs": [],
      "source": [
        "net_quan_a = copy_model(net)\n",
        "register_activation_profiling_hooks(net_quan_a)\n",
        "\n",
        "# Run through the test dataset again while profiling the input and output activations this time\n",
        "score = calculate_accuracy(net_quan_a, testloader, max_samples=400)"
      ]
    },
    {
      "cell_type": "markdown",
      "metadata": {
        "id": "4ix1rpG92g9Z"
      },
      "source": [
        "Plot the activations of each layer and call it to create all the plots. Record any observations you make about the distribution of the values."
      ]
    },
    {
      "cell_type": "code",
      "execution_count": null,
      "metadata": {
        "id": "XRseyfsJkyFO"
      },
      "outputs": [],
      "source": [
        "def analyze_input_activations(layer_name: str, activations: np.ndarray):\n",
        "    \"\"\"\n",
        "    Analyze and plot the input activations.\n",
        "\n",
        "    Parameters:\n",
        "    - activations (np.ndarray): The activations to be analyzed.\n",
        "    \"\"\"\n",
        "\n",
        "    # Flatten the activations for better visualization\n",
        "    flattened_activations = activations.flatten()\n",
        "\n",
        "    plt.figure(figsize=(5, 4))\n",
        "\n",
        "    # Plot a histogram of the flattened activations\n",
        "    plt.hist(flattened_activations, density=True, bins=50)\n",
        "    plt.title(f\"{layer_name} Activations Histogram\")\n",
        "    plt.xlabel(\"Activation Value\")\n",
        "    plt.ylabel(\"Density\")\n",
        "\n",
        "    # Calculate the upper and lower bounds of the range within 3 standard deviations\n",
        "    activations_mean = np.mean(flattened_activations)\n",
        "    activations_std = np.std(flattened_activations)\n",
        "    activations_3sigma_max = activations_mean + 3 * activations_std\n",
        "    activations_3sigma_min = activations_mean - 3 * activations_std\n",
        "\n",
        "    # Calculate the range of activations and the 3-sigma range\n",
        "    activations_range = np.max(flattened_activations) - np.min(flattened_activations)\n",
        "    sigma_range = activations_3sigma_max - activations_3sigma_min\n",
        "\n",
        "    # print(f\"Input Activations Range: {activations_range}\")\n",
        "    # print(f\"Input Activations 3-Sigma Range: {sigma_range}\")\n",
        "\n",
        "    plt.text(0.98, 0.95, f'Activation Range: {activations_range:.4f}\\n3-Sigma Range: {sigma_range:.4f}',\n",
        "            horizontalalignment='right', verticalalignment='top',\n",
        "            transform=plt.gca().transAxes, bbox=dict(facecolor='white', alpha=0.5))\n",
        "\n",
        "    plt.show()\n",
        "\n",
        "\n",
        "# List of (name, activations) tuples\n",
        "activation_data = [\n",
        "    (\"Input\", net_quan_a.input_activations),\n",
        "    (\"Conv1 Output\", net_quan_a.conv1.activations),\n",
        "    (\"Conv2 Output\", net_quan_a.conv2.activations),\n",
        "    (\"FC1 Output\", net_quan_a.fc1.activations),\n",
        "    (\"FC2 Output\", net_quan_a.fc2.activations),\n",
        "    (\"FC3 Output\", net_quan_a.fc3.activations)\n",
        "]\n",
        "\n",
        "# Loop through each (name, activations) tuple and call the analysis function\n",
        "for name, activations in activation_data:\n",
        "    analyze_input_activations(name, activations)"
      ]
    },
    {
      "cell_type": "markdown",
      "metadata": {
        "id": "YX3scQvaQEjg"
      },
      "source": [
        "### **TODO 3:**\n",
        "\n",
        "Based on the plots observed above, does the 3-sigma range closely align with the overall range of the activation?"
      ]
    },
    {
      "cell_type": "markdown",
      "metadata": {
        "id": "QYzr21mGQEjh"
      },
      "source": [
        "Your answer:"
      ]
    },
    {
      "cell_type": "markdown",
      "metadata": {
        "id": "3zBHym6XGXtX"
      },
      "source": [
        "## Quantizing Activations\n",
        "\n",
        "Before performing any quantization let's describe the output of the `conv1` layer as:\n",
        "\n",
        "$$ W_{conv1} * In = Out_{conv1} $$\n",
        "\n",
        "Suppose:\n",
        "- We scale the input, $ In $, scaling it by $ s_{In} $.\n",
        "- We scale the weight, $ W_{conv1} $, by $ s_{W_{conv1}} $\n",
        "- We scale output, $ Out_{conv1} $, by $ s_{Out_{conv1}} $.\n",
        "\n",
        "\n",
        "### **TODO 4:**\n",
        "\n",
        "Now try to answer the following questions:\n",
        "\n",
        "1. Calculate $ s_{Out_{conv1}}$ and the quantized output of `conv1` layer, $Out_{conv1}^{q}$.\n",
        "\n",
        "2. Calculate $ s_{Out_{conv2}}$ and the quantized output of `conv2` layer, $Out_{conv2}^{q}$.\n",
        "\n",
        "3. How would you generalize the output scale calculation to the next layers?\n",
        "\n",
        "\n",
        "Assume no pooling or relu exists."
      ]
    },
    {
      "cell_type": "markdown",
      "metadata": {
        "id": "vUwaN_NuQEjh"
      },
      "source": [
        "Your answer:"
      ]
    },
    {
      "cell_type": "markdown",
      "metadata": {
        "id": "aLG7MedrtIdi"
      },
      "source": [
        "Now we are going to implement a network where both weights and activations are quantized.\n",
        "\n",
        "### **TODO 5:**\n",
        "Complete these functions in the following code:\n",
        "1. Understand what the `__init__` function is doing, but it should stay unchanged.\n",
        "2. Complete `quantize_initial_input`.\n",
        "3. Complete `quantize_activations`.\n",
        "4. Write the `forward` function of this quantized network, similar to the original net's `forward` function, but make sure you use `round` and clip the values.\n"
      ]
    },
    {
      "cell_type": "code",
      "execution_count": null,
      "metadata": {
        "id": "1BxTEkSAKOLH"
      },
      "outputs": [],
      "source": [
        "from typing import List\n",
        "\n",
        "\n",
        "# Used in the next section\n",
        "def nearest_power_of_two(n):\n",
        "    return 2**round(np.log2(n))\n",
        "\n",
        "\n",
        "class NetQuantized(nn.Module):\n",
        "    \"\"\"\n",
        "    A PyTorch neural network model with quantized weights and activations.\n",
        "\n",
        "    This class is designed to create a quantized version of a neural network, where both\n",
        "    weights and activations are quantized to a limited range of values. It also provides\n",
        "    methods for quantization and scaling of input data and activations.\n",
        "\n",
        "    Note that NetQuantized is inherited from nn.Module.\n",
        "\n",
        "    Attributes:\n",
        "    - conv1 (nn.Module): The first convolutional layer.\n",
        "    - pool (nn.Module): The pooling layer.\n",
        "    - conv2 (nn.Module): The second convolutional layer.\n",
        "    - fc1 (nn.Module): The first fully connected layer.\n",
        "    - fc2 (nn.Module): The second fully connected layer.\n",
        "    - fc3 (nn.Module): The third fully connected layer.\n",
        "\n",
        "    Methods:\n",
        "    - quantize_initial_input(pixels: np.ndarray) -> float: Calculate a scaling factor for the initial input.\n",
        "    - quantize_activations(activations: np.ndarray, n_w: float, n_initial_input: float, ns: List[Tuple[float, float]]) -> float: Calculate scaling factor for layer output.\n",
        "    - forward(x: torch.Tensor) -> torch.Tensor: Forward pass through the quantized network.\n",
        "\n",
        "    Usage:\n",
        "    Initialize an instance of this class with a quantized neural network model,\n",
        "    and it will automatically set up quantization and scaling for both input and activations.\n",
        "    \"\"\"\n",
        "\n",
        "    def __init__(self, net_with_weights_quantized: nn.Module):\n",
        "      \"\"\"\n",
        "      Initialize a quantized neural network model.\n",
        "\n",
        "      Parameters:\n",
        "      - net_with_weights_quantized (nn.Module): The input PyTorch model with quantized weights.\n",
        "\n",
        "      This class is designed to create a quantized version of a neural network, where both\n",
        "      weights and activations are quantized to a limited range of values.\n",
        "      \"\"\"\n",
        "      super(NetQuantized, self).__init__()\n",
        "\n",
        "      # Create a copy of the input model to avoid modifying the original model\n",
        "      net_init = copy_model(net_with_weights_quantized)\n",
        "\n",
        "      self.conv1 = net_init.conv1\n",
        "      self.pool = net_init.pool\n",
        "      self.conv2 = net_init.conv2\n",
        "      self.fc1 = net_init.fc1\n",
        "      self.fc2 = net_init.fc2\n",
        "      self.fc3 = net_init.fc3\n",
        "\n",
        "      # Define a list of layers to use throughout the model\n",
        "      layers = [self.conv1, self.conv2, self.fc1, self.fc2, self.fc3]\n",
        "\n",
        "      # Register pre-hooks for each layer to check input data before forward pass\n",
        "      for layer in layers:\n",
        "          def pre_hook(l, x):\n",
        "              x = x[0]  # Extract the input tensor from the tuple\n",
        "              # Check if input values are within the range for an 8-bit signed integer\n",
        "              if (x < -128).any() or (x > 127).any():\n",
        "                  raise Exception(\"Input to {} layer is out of bounds for an 8-bit signed integer\".format(l.__class__.__name__))\n",
        "              # Check if input values have fractional parts (i.e., they are not integers)\n",
        "              if (x != x.round()).any():\n",
        "                  raise Exception(\"Input to {} layer has non-integer values\".format(l.__class__.__name__))\n",
        "\n",
        "          layer.register_forward_pre_hook(pre_hook)\n",
        "\n",
        "      # Calculate the scaling factor for the initial input to the CNN\n",
        "      self.input_activations = net_with_weights_quantized.input_activations\n",
        "      self.input_scale = NetQuantized.quantize_initial_input(self.input_activations)\n",
        "\n",
        "      # Calculate the output scaling factors for all the layers of the CNN\n",
        "      preceding_layer_scales = []\n",
        "      for layer in layers:\n",
        "          layer.output_scale = NetQuantized.quantize_activations(layer.activations, layer.weight.scale, self.input_scale, preceding_layer_scales)\n",
        "          # Store the scales for later use in subsequent layers\n",
        "          preceding_layer_scales.append((layer.weight.scale, layer.output_scale))\n",
        "\n",
        "\n",
        "    @staticmethod\n",
        "    def quantize_initial_input(pixels: np.ndarray) -> float:\n",
        "        '''\n",
        "        Calculate a scaling factor for the images that are input to the first layer of the CNN.\n",
        "\n",
        "        Parameters:\n",
        "        pixels (ndarray): The values of all the pixels which were part of the input image during training\n",
        "\n",
        "        Returns:\n",
        "        float: A scaling factor that the input should be multiplied by before being fed into the first layer.\n",
        "               This value does not need to be an 8-bit integer.\n",
        "        '''\n",
        "\n",
        "        # TODO: Add your code here.\n",
        "\n",
        "        return scale_factor\n",
        "\n",
        "\n",
        "    @staticmethod\n",
        "    def quantize_activations(activations: np.ndarray, s_w: float, s_initial_input: float, weight_output_scales: List[Tuple[float, float]]) -> float:\n",
        "        '''\n",
        "        Calculate a scaling factor to multiply the output of a layer by.\n",
        "\n",
        "        Parameters:\n",
        "        activations (ndarray): The values of all the pixels which have been output by this layer during training\n",
        "        s_w (float): The scale by which the weights of this layer were multiplied as part of the \"quantize_weights\" function you wrote earlier\n",
        "        s_initial_input (float): The scale by which the initial input to the neural network was multiplied\n",
        "        weight_output_scales ([(float, float)]): A list of tuples, where each tuple represents the \"weight scale\" and \"output scale\" (in that order) for every preceding layer\n",
        "\n",
        "        Returns:\n",
        "        float: A scaling factor that the layer output should be multiplied by before being fed into the first layer.\n",
        "               This value does not need to be an 8-bit integer.\n",
        "        '''\n",
        "        # TODO: Add your code here.\n",
        "\n",
        "        return combined_scale\n",
        "\n",
        "\n",
        "    def forward(self, x: torch.Tensor) -> torch.Tensor:\n",
        "        # TODO: Add your code here.\n",
        "\n",
        "        return x"
      ]
    },
    {
      "cell_type": "code",
      "execution_count": null,
      "metadata": {
        "id": "63d4SFKQqSsy"
      },
      "outputs": [],
      "source": [
        "# Merge the information from net_quan_w and net_quan_a together\n",
        "net_init = copy_model(net_quan_w)\n",
        "net_init.input_activations = deepcopy(net_quan_a.input_activations)\n",
        "for layer_init, layer_quan_a in zip(net_init.children(), net_quan_a.children()):\n",
        "    if isinstance(layer_init, nn.Conv2d) or isinstance(layer_init, nn.Linear):\n",
        "        layer_init.activations = deepcopy(layer_quan_a.activations)\n",
        "\n",
        "net_quantized = NetQuantized(net_init)"
      ]
    },
    {
      "cell_type": "markdown",
      "metadata": {
        "id": "4eYRfqKbwq4N"
      },
      "source": [
        "Calculate the accuracy"
      ]
    },
    {
      "cell_type": "code",
      "execution_count": null,
      "metadata": {
        "id": "D6qyppXqqzkR"
      },
      "outputs": [],
      "source": [
        "score = calculate_accuracy(net_quantized, testloader)\n",
        "print('Accuracy of the weight and activation quantized net on the test images: {}%'.format(score))"
      ]
    },
    {
      "cell_type": "markdown",
      "metadata": {
        "id": "u7252KL8QEjm"
      },
      "source": [
        "### **TODO 6:**\n",
        "\n",
        "1. Write down the scaling factors you calculated in the previous section for each layer. Instead of reporting the scale factor itself, $s$, report $\\frac{1}{s}$ for each layer.\n",
        "2. Modify the network so that you round each $\\frac{1}{s}$ for activations to the nearest power of 2 and use that instead. For example, if $\\frac{1}{s} = 230.46005$, round it to $256$\n",
        "    - What is the benefit of this approximation?\n",
        "    - Recalculate the accuracy.\n",
        "3. Instead of 8-bit integers, modify your code to use 4-bit integers. Recalculate the accuracy."
      ]
    },
    {
      "cell_type": "markdown",
      "metadata": {
        "id": "kArPapV6QEjn"
      },
      "source": [
        "Your answer:"
      ]
    },
    {
      "cell_type": "markdown",
      "metadata": {
        "id": "1_LQoR1KQEjn"
      },
      "source": []
    }
  ],
  "metadata": {
    "accelerator": "GPU",
    "colab": {
      "collapsed_sections": [
        "xqQLUTPfi0JZ"
      ],
      "gpuType": "T4",
      "provenance": [],
      "include_colab_link": true
    },
    "kernelspec": {
      "display_name": "Python 3",
      "name": "python3"
    },
    "language_info": {
      "codemirror_mode": {
        "name": "ipython",
        "version": 3
      },
      "file_extension": ".py",
      "mimetype": "text/x-python",
      "name": "python",
      "nbconvert_exporter": "python",
      "pygments_lexer": "ipython3",
      "version": "3.9.18"
    }
  },
  "nbformat": 4,
  "nbformat_minor": 0
}